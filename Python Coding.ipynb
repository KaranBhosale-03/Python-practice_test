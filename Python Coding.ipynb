{
 "cells": [
  {
   "cell_type": "markdown",
   "id": "e8363779",
   "metadata": {},
   "source": [
    "## 1.Python Practice"
   ]
  },
  {
   "cell_type": "code",
   "execution_count": 4,
   "id": "3641a667",
   "metadata": {},
   "outputs": [
    {
     "name": "stdout",
     "output_type": "stream",
     "text": [
      "KaranBhosale\n"
     ]
    }
   ],
   "source": [
    "print('Karan Bhosale')"
   ]
  },
  {
   "cell_type": "code",
   "execution_count": 9,
   "id": "6a29a7fe",
   "metadata": {},
   "outputs": [
    {
     "name": "stdout",
     "output_type": "stream",
     "text": [
      "what is your name Karan\n"
     ]
    }
   ],
   "source": [
    "name=input('what is your name ')"
   ]
  },
  {
   "cell_type": "code",
   "execution_count": 12,
   "id": "efbd63f4",
   "metadata": {},
   "outputs": [
    {
     "name": "stdout",
     "output_type": "stream",
     "text": [
      "Hello Karan\n"
     ]
    }
   ],
   "source": [
    "print('Hello '+ name )"
   ]
  },
  {
   "cell_type": "markdown",
   "id": "2de02d7b",
   "metadata": {},
   "source": [
    "## Data Types"
   ]
  },
  {
   "cell_type": "code",
   "execution_count": null,
   "id": "3da8a25b",
   "metadata": {},
   "outputs": [],
   "source": [
    "# Int, float , bool , set , str, list, tuple, dict"
   ]
  },
  {
   "cell_type": "code",
   "execution_count": null,
   "id": "65fc773f",
   "metadata": {},
   "outputs": [],
   "source": [
    "## Classes -> custom types\n",
    "#anytype of name "
   ]
  },
  {
   "cell_type": "code",
   "execution_count": null,
   "id": "ae872f46",
   "metadata": {},
   "outputs": [],
   "source": [
    "# Specailized Data Types\n",
    "#Modules"
   ]
  },
  {
   "cell_type": "code",
   "execution_count": 13,
   "id": "4bb5c0cf",
   "metadata": {},
   "outputs": [],
   "source": [
    "#None"
   ]
  },
  {
   "cell_type": "markdown",
   "id": "307708e3",
   "metadata": {},
   "source": [
    "##Fundaments Data Types"
   ]
  },
  {
   "cell_type": "code",
   "execution_count": 7,
   "id": "f5d30302",
   "metadata": {},
   "outputs": [
    {
     "name": "stdout",
     "output_type": "stream",
     "text": [
      "<class 'int'>\n",
      "<class 'float'>\n",
      "<class 'int'>\n",
      "<class 'int'>\n"
     ]
    }
   ],
   "source": [
    "#Integers\n",
    "# Type is used to define data types of function.\n",
    "\n",
    "# float number take more space to save rather than other number.\n",
    "\n",
    "print(type(2 + 4))\n",
    "print(type(2 / 4))\n",
    "print(type(2 * 4))\n",
    "print(type(2 - 4))"
   ]
  },
  {
   "cell_type": "code",
   "execution_count": 13,
   "id": "eb98a910",
   "metadata": {},
   "outputs": [
    {
     "name": "stdout",
     "output_type": "stream",
     "text": [
      "4\n",
      "8\n",
      "1\n",
      "1\n"
     ]
    }
   ],
   "source": [
    "print((2 ** 2))\n",
    "print((2 ** 3))\n",
    "print((2 // 2))\n",
    "print((5 % 4))"
   ]
  },
  {
   "cell_type": "markdown",
   "id": "461cebd9",
   "metadata": {},
   "source": [
    "## math Function"
   ]
  },
  {
   "cell_type": "code",
   "execution_count": 17,
   "id": "501f4bb8",
   "metadata": {},
   "outputs": [
    {
     "name": "stdout",
     "output_type": "stream",
     "text": [
      "4\n",
      "3\n"
     ]
    }
   ],
   "source": [
    "# Round-up the numbers\n",
    "print(round(3.9))\n",
    "print(round(3.1))"
   ]
  },
  {
   "cell_type": "code",
   "execution_count": 18,
   "id": "f18f411c",
   "metadata": {},
   "outputs": [
    {
     "name": "stdout",
     "output_type": "stream",
     "text": [
      "29\n"
     ]
    }
   ],
   "source": [
    "# ABS no negative numbers\n",
    "print(abs(-29))\n"
   ]
  },
  {
   "cell_type": "markdown",
   "id": "64b60758",
   "metadata": {},
   "source": [
    "## operator precedence"
   ]
  },
  {
   "cell_type": "code",
   "execution_count": 22,
   "id": "7482b5aa",
   "metadata": {},
   "outputs": [
    {
     "name": "stdout",
     "output_type": "stream",
     "text": [
      "21\n"
     ]
    }
   ],
   "source": [
    "# Squence of precedence\n",
    "# (), ** , * / , + -\n",
    "\n",
    "print((20-3)+ (2**2))"
   ]
  },
  {
   "cell_type": "code",
   "execution_count": 25,
   "id": "8b0398fd",
   "metadata": {},
   "outputs": [
    {
     "name": "stdout",
     "output_type": "stream",
     "text": [
      "0b101\n",
      "5\n"
     ]
    }
   ],
   "source": [
    "print(bin(5))\n",
    "print(int('0b101', 2))"
   ]
  },
  {
   "cell_type": "markdown",
   "id": "18a33f60",
   "metadata": {},
   "source": [
    "## Variables"
   ]
  },
  {
   "cell_type": "code",
   "execution_count": null,
   "id": "70f13c37",
   "metadata": {},
   "outputs": [],
   "source": [
    "# Case senstive -> Start with lower case or underscore\n",
    "# letter , number , underscore\n",
    "# Don't overwrite keywords.\n",
    "#print(print) XXXXXX"
   ]
  },
  {
   "cell_type": "code",
   "execution_count": 32,
   "id": "b7831dd0",
   "metadata": {},
   "outputs": [
    {
     "name": "stdout",
     "output_type": "stream",
     "text": [
      "190\n"
     ]
    }
   ],
   "source": [
    "iq =190\n",
    "print(iq)"
   ]
  },
  {
   "cell_type": "markdown",
   "id": "405d58a5",
   "metadata": {},
   "source": [
    "## Constant"
   ]
  },
  {
   "cell_type": "code",
   "execution_count": null,
   "id": "51150154",
   "metadata": {},
   "outputs": [],
   "source": [
    "## pi=3.14"
   ]
  },
  {
   "cell_type": "code",
   "execution_count": 33,
   "id": "3db6a0a6",
   "metadata": {},
   "outputs": [],
   "source": [
    "iq=150\n",
    "user_age=iq/4\n",
    "\n",
    "#Statement->  user_age=iq/4\n",
    "# experssion -> iq/4"
   ]
  },
  {
   "cell_type": "code",
   "execution_count": 35,
   "id": "940e6671",
   "metadata": {},
   "outputs": [
    {
     "name": "stdout",
     "output_type": "stream",
     "text": [
      "37.5\n"
     ]
    }
   ],
   "source": [
    "print(user_age)"
   ]
  },
  {
   "cell_type": "markdown",
   "id": "a4386880",
   "metadata": {},
   "source": [
    "## Agumented assignment operator"
   ]
  },
  {
   "cell_type": "code",
   "execution_count": 60,
   "id": "7689aa8b",
   "metadata": {},
   "outputs": [],
   "source": [
    "some_value =5"
   ]
  },
  {
   "cell_type": "code",
   "execution_count": 61,
   "id": "3e6778ba",
   "metadata": {},
   "outputs": [
    {
     "name": "stdout",
     "output_type": "stream",
     "text": [
      "7\n"
     ]
    }
   ],
   "source": [
    "some_value +=2 # This (+)is know as Agumented assignment operator\n",
    "\n",
    "print(some_value)"
   ]
  },
  {
   "cell_type": "code",
   "execution_count": 1,
   "id": "f9084a3d",
   "metadata": {},
   "outputs": [],
   "source": [
    "first_name='karan'\n",
    "last_name='bhosale'\n",
    "full_name=first_name+last_name"
   ]
  },
  {
   "cell_type": "code",
   "execution_count": 2,
   "id": "002bde81",
   "metadata": {},
   "outputs": [
    {
     "name": "stdout",
     "output_type": "stream",
     "text": [
      "karanbhosale\n"
     ]
    }
   ],
   "source": [
    "print(full_name)"
   ]
  },
  {
   "cell_type": "code",
   "execution_count": 6,
   "id": "d2e36550",
   "metadata": {},
   "outputs": [
    {
     "name": "stdout",
     "output_type": "stream",
     "text": [
      "<class 'int'>\n"
     ]
    }
   ],
   "source": [
    "print(type(str(100)))"
   ]
  },
  {
   "cell_type": "markdown",
   "id": "58ec2459",
   "metadata": {},
   "source": [
    "## Strings"
   ]
  },
  {
   "cell_type": "code",
   "execution_count": 1,
   "id": "a92d4858",
   "metadata": {},
   "outputs": [
    {
     "name": "stdout",
     "output_type": "stream",
     "text": [
      "<class 'str'>\n"
     ]
    }
   ],
   "source": [
    "print(type('Hi hello there!'))"
   ]
  },
  {
   "cell_type": "code",
   "execution_count": 6,
   "id": "e0520764",
   "metadata": {},
   "outputs": [
    {
     "name": "stdout",
     "output_type": "stream",
     "text": [
      "supercoder supersecret\n"
     ]
    }
   ],
   "source": [
    "username='supercoder'\n",
    "password='supersecret'\n",
    "\n",
    "print(username +' '+ password)"
   ]
  },
  {
   "cell_type": "markdown",
   "id": "89ab029b",
   "metadata": {},
   "source": [
    "## formatted strings (f-string)"
   ]
  },
  {
   "cell_type": "code",
   "execution_count": 26,
   "id": "fecf997f",
   "metadata": {},
   "outputs": [
    {
     "name": "stdout",
     "output_type": "stream",
     "text": [
      "Hi Johnny.You are 55 years old. and you live at 3132 st\n"
     ]
    }
   ],
   "source": [
    "name='Johnny'\n",
    "age=55\n",
    "Address =3132 \n",
    "#EX-1\n",
    "print(f'Hi {name}.You are {age} years old. and you live at {Address} st')\n",
    "\n",
    "#{f}-> used for formatted strings. whenever we need write mix Data Types statements."
   ]
  },
  {
   "cell_type": "code",
   "execution_count": 28,
   "id": "0291f2d5",
   "metadata": {},
   "outputs": [
    {
     "name": "stdout",
     "output_type": "stream",
     "text": [
      "Hi Johnny.You are 55 years old. and you live at 3132 st\n"
     ]
    }
   ],
   "source": [
    "name='Johnny'\n",
    "age=55\n",
    "Address =3132 \n",
    "\n",
    "#EX-2\n",
    "print('Hi {}.You are {} years old. and you live at {} st'.format('Johnny','55','3132'))"
   ]
  },
  {
   "cell_type": "code",
   "execution_count": 40,
   "id": "775601e5",
   "metadata": {},
   "outputs": [
    {
     "name": "stdout",
     "output_type": "stream",
     "text": [
      "76543210\n"
     ]
    }
   ],
   "source": [
    "selfish='01234567'\n",
    "#[start: stop : stepover]\n",
    "\n",
    "print(selfish[::-1])"
   ]
  },
  {
   "cell_type": "code",
   "execution_count": 41,
   "id": "9569b202",
   "metadata": {},
   "outputs": [
    {
     "name": "stdout",
     "output_type": "stream",
     "text": [
      "01234567\n"
     ]
    }
   ],
   "source": [
    "print(selfish[::1])"
   ]
  },
  {
   "cell_type": "code",
   "execution_count": 43,
   "id": "87f7e467",
   "metadata": {},
   "outputs": [
    {
     "name": "stdout",
     "output_type": "stream",
     "text": [
      "01234\n"
     ]
    }
   ],
   "source": [
    "print(selfish[0:5:1])"
   ]
  },
  {
   "cell_type": "code",
   "execution_count": 44,
   "id": "82ca3805",
   "metadata": {},
   "outputs": [
    {
     "name": "stdout",
     "output_type": "stream",
     "text": [
      "12\n"
     ]
    }
   ],
   "source": [
    "print(len('heloojienfef'))"
   ]
  },
  {
   "cell_type": "code",
   "execution_count": 56,
   "id": "c940817d",
   "metadata": {},
   "outputs": [
    {
     "name": "stdout",
     "output_type": "stream",
     "text": [
      "TO BE NO TO BE\n"
     ]
    }
   ],
   "source": [
    "quote='to be no to be'\n",
    "print(quote.upper())"
   ]
  },
  {
   "cell_type": "code",
   "execution_count": 58,
   "id": "7f14a362",
   "metadata": {},
   "outputs": [
    {
     "name": "stdout",
     "output_type": "stream",
     "text": [
      "To be no to be\n"
     ]
    }
   ],
   "source": [
    "print(quote.capitalize())"
   ]
  },
  {
   "cell_type": "code",
   "execution_count": 59,
   "id": "6d2c01e0",
   "metadata": {},
   "outputs": [
    {
     "name": "stdout",
     "output_type": "stream",
     "text": [
      "3\n"
     ]
    }
   ],
   "source": [
    "print(quote.find('be'))"
   ]
  },
  {
   "cell_type": "code",
   "execution_count": 60,
   "id": "ee62306f",
   "metadata": {},
   "outputs": [
    {
     "name": "stdout",
     "output_type": "stream",
     "text": [
      "to me no to me\n"
     ]
    }
   ],
   "source": [
    "print(quote.replace('be','me'))"
   ]
  },
  {
   "cell_type": "markdown",
   "id": "d894d55f",
   "metadata": {},
   "source": [
    "print(quote = quote.replace('be', '', 01))"
   ]
  },
  {
   "cell_type": "code",
   "execution_count": null,
   "id": "ac9a95e9",
   "metadata": {},
   "outputs": [],
   "source": [
    "# Strings are immitable we cannit change them ."
   ]
  },
  {
   "cell_type": "markdown",
   "id": "b05d96b0",
   "metadata": {},
   "source": [
    "## Booleans"
   ]
  },
  {
   "cell_type": "code",
   "execution_count": 66,
   "id": "8487ac74",
   "metadata": {},
   "outputs": [],
   "source": [
    "name='Karan'\n",
    "is_cool=False"
   ]
  },
  {
   "cell_type": "code",
   "execution_count": 67,
   "id": "80029d31",
   "metadata": {},
   "outputs": [],
   "source": [
    "is_cool=True"
   ]
  },
  {
   "cell_type": "code",
   "execution_count": 69,
   "id": "48aabc6c",
   "metadata": {},
   "outputs": [
    {
     "name": "stdout",
     "output_type": "stream",
     "text": [
      "False\n",
      "True\n"
     ]
    }
   ],
   "source": [
    "print(bool(0))\n",
    "print(bool(1))"
   ]
  },
  {
   "cell_type": "markdown",
   "id": "1cc57184",
   "metadata": {},
   "source": [
    "## Exercises"
   ]
  },
  {
   "cell_type": "code",
   "execution_count": 75,
   "id": "d8c7a174",
   "metadata": {},
   "outputs": [
    {
     "name": "stdout",
     "output_type": "stream",
     "text": [
      " what is your birth year = 2000\n"
     ]
    }
   ],
   "source": [
    "birth_year = input(\" what is your birth year = \")"
   ]
  },
  {
   "cell_type": "code",
   "execution_count": 76,
   "id": "bb06be4c",
   "metadata": {},
   "outputs": [],
   "source": [
    "age = 2023 - int(birth_year)"
   ]
  },
  {
   "cell_type": "code",
   "execution_count": 77,
   "id": "0b2910dc",
   "metadata": {},
   "outputs": [
    {
     "name": "stdout",
     "output_type": "stream",
     "text": [
      "my age is :23\n"
     ]
    }
   ],
   "source": [
    "print(f'my age is :{age}')"
   ]
  },
  {
   "cell_type": "code",
   "execution_count": 79,
   "id": "016fac0c",
   "metadata": {},
   "outputs": [
    {
     "name": "stdout",
     "output_type": "stream",
     "text": [
      " what is your username :  karan\n",
      " what is your password :  bhosale\n",
      "karan , your password ******* is 7 letter long\n"
     ]
    }
   ],
   "source": [
    "username= input(\" what is your username :  \")\n",
    "password= input(\" what is your password :  \")\n",
    "\n",
    "password1= '*' * len(password)\n",
    "\n",
    "print(f'{username} , your password {password1} is {len(password)} letter long')"
   ]
  },
  {
   "cell_type": "markdown",
   "id": "75cee287",
   "metadata": {},
   "source": [
    "## List"
   ]
  },
  {
   "cell_type": "code",
   "execution_count": 80,
   "id": "32f53c50",
   "metadata": {},
   "outputs": [
    {
     "name": "stdout",
     "output_type": "stream",
     "text": [
      "[1, 2, 3, 4, 5, 100]\n",
      "[1, 2, 3, 4, 100, 5, 100]\n",
      "[1, 2, 3, 4, 100, 5, 100, 100, 200, 300]\n",
      "[1, 2, 3, 4, 100, 5, 100, 100, 200]\n",
      "[]\n"
     ]
    }
   ],
   "source": [
    "basket=[1,2,3,4,5]\n",
    "\n",
    "#Adding in list append take only one argument.\n",
    "new_list=basket.append(100)\n",
    "new_list=basket\n",
    "print(new_list)\n",
    "\n",
    "#Inserting in list through index.\n",
    "new_list=basket.insert(4, 100)\n",
    "new_list=basket\n",
    "print(new_list)\n",
    "\n",
    "#Extend in list\n",
    "basket.extend([100,200,300])\n",
    "print(basket)\n",
    "\n",
    "#Removing in list\n",
    "basket.pop()\n",
    "print(basket)\n",
    "\n",
    "# Clear in list\n",
    "basket.clear()\n",
    "print(basket)"
   ]
  },
  {
   "cell_type": "code",
   "execution_count": 81,
   "id": "ffd9bf62",
   "metadata": {},
   "outputs": [
    {
     "name": "stdout",
     "output_type": "stream",
     "text": [
      "3\n",
      "True\n",
      "2\n"
     ]
    }
   ],
   "source": [
    "basket=['a','b','c','d','e','d']\n",
    "\n",
    "print(basket.index('d'))\n",
    "\n",
    "print('d' in basket)\n",
    "\n",
    "print(basket.count('d'))\n",
    "\n"
   ]
  },
  {
   "cell_type": "markdown",
   "id": "5be797cc",
   "metadata": {},
   "source": [
    "## Sorting"
   ]
  },
  {
   "cell_type": "code",
   "execution_count": 82,
   "id": "41ca2777",
   "metadata": {},
   "outputs": [
    {
     "name": "stdout",
     "output_type": "stream",
     "text": [
      "['a', 'b', 'c', 'd', 'd', 'e', 'x']\n",
      "['x', 'e', 'd', 'd', 'c', 'b', 'a']\n",
      "['a', 'b', 'c', 'd', 'd', 'e', 'x']\n"
     ]
    }
   ],
   "source": [
    "#Sorting in List\n",
    "\n",
    "basket=['a','x','b','c','d','e','d']\n",
    "print(sorted(basket))\n",
    "\n",
    "# Resereved sorting\n",
    "\n",
    "basket.sort()\n",
    "basket.reverse()\n",
    "print(basket)\n",
    "print(sorted(basket))\n"
   ]
  },
  {
   "cell_type": "code",
   "execution_count": null,
   "id": "41e1436e",
   "metadata": {},
   "outputs": [],
   "source": []
  },
  {
   "cell_type": "code",
   "execution_count": null,
   "id": "c25613bf",
   "metadata": {},
   "outputs": [],
   "source": []
  },
  {
   "cell_type": "code",
   "execution_count": null,
   "id": "022c6e26",
   "metadata": {},
   "outputs": [],
   "source": []
  },
  {
   "cell_type": "code",
   "execution_count": null,
   "id": "bca0b84e",
   "metadata": {},
   "outputs": [],
   "source": []
  }
 ],
 "metadata": {
  "kernelspec": {
   "display_name": "Python 3 (ipykernel)",
   "language": "python",
   "name": "python3"
  },
  "language_info": {
   "codemirror_mode": {
    "name": "ipython",
    "version": 3
   },
   "file_extension": ".py",
   "mimetype": "text/x-python",
   "name": "python",
   "nbconvert_exporter": "python",
   "pygments_lexer": "ipython3",
   "version": "3.10.9"
  }
 },
 "nbformat": 4,
 "nbformat_minor": 5
}
